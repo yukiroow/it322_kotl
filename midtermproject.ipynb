{
 "cells": [
  {
   "cell_type": "markdown",
   "id": "3a8d90e6",
   "metadata": {},
   "source": [
    "# Midterm Project\n",
    "\n",
    "> Develop classification models to predict a target variable.\n",
    "> Evaluate the classification models based on the different performance metrics.\n",
    "\n",
    "[Link to Dataset](https://www.kaggle.com/datasets/adeniranstephen/obesity-prediction-dataset)"
   ]
  },
  {
   "cell_type": "code",
   "id": "ecdbaea0",
   "metadata": {
    "ExecuteTime": {
     "end_time": "2025-03-16T13:55:36.056859Z",
     "start_time": "2025-03-16T13:55:36.036808Z"
    }
   },
   "source": [
    "# Import dataset\n",
    "import pandas as pd\n",
    "from sklearn.model_selection import train_test_split\n",
    "from sklearn.svm import SVC\n",
    "from sklearn.naive_bayes import CategoricalNB\n",
    "from sklearn.metrics import accuracy_score, precision_score, recall_score, classification_report, confusion_matrix\n",
    "from sklearn.compose import ColumnTransformer\n",
    "from sklearn.tree import DecisionTreeClassifier\n",
    "from sklearn.preprocessing import StandardScaler, OneHotEncoder, KBinsDiscretizer\n",
    "from sklearn.pipeline import Pipeline\n",
    "\n",
    "raw = pd.read_csv('data/obesity_dataset.csv')\n",
    "\n",
    "raw = raw.sample(frac=1).reset_index(drop=True)\n",
    "\n",
    "raw"
   ],
   "outputs": [
    {
     "data": {
      "text/plain": [
       "      Gender  Age  Height  Weight family_history_with_overweight FAVC  FCVC  \\\n",
       "0     Female   23    1.63   83.10                            yes  yes  2.98   \n",
       "1       Male   31    1.87  127.51                            yes  yes  2.94   \n",
       "2       Male   25    1.77  114.07                            yes  yes  1.62   \n",
       "3     Female   22    1.73  132.90                            yes  yes  3.00   \n",
       "4       Male   25    1.76  112.20                            yes  yes  1.26   \n",
       "...      ...  ...     ...     ...                            ...  ...   ...   \n",
       "2106    Male   18    1.72   53.78                            yes  yes  2.00   \n",
       "2107    Male   23    1.61  100.64                            yes  yes  3.00   \n",
       "2108    Male   24    1.70   75.00                            yes  yes  2.00   \n",
       "2109    Male   25    1.77  112.23                            yes  yes  1.44   \n",
       "2110  Female   20    1.70   49.98                             no  yes  1.20   \n",
       "\n",
       "       NCP       CAEC SMOKE  CH2O SCC   FAF    TUE       CALC  \\\n",
       "0     1.63  Sometimes    no  2.84  no  1.09  0.890         no   \n",
       "1     3.00  Sometimes   yes  1.34  no  0.92  1.432  Sometimes   \n",
       "2     3.00  Sometimes    no  2.08  no  1.54  0.357  Sometimes   \n",
       "3     3.00  Sometimes    no  1.82  no  1.58  0.931  Sometimes   \n",
       "4     3.00  Sometimes    no  2.00  no  1.33  0.002  Sometimes   \n",
       "...    ...        ...   ...   ...  ..   ...    ...        ...   \n",
       "2106  3.13  Sometimes    no  2.07  no  1.49  2.000  Sometimes   \n",
       "2107  1.15  Sometimes    no  1.24  no  1.13  1.666         no   \n",
       "2108  3.00  Sometimes    no  2.00  no  1.00  0.000  Sometimes   \n",
       "2109  3.00  Sometimes    no  2.00  no  1.39  0.001  Sometimes   \n",
       "2110  3.53  Sometimes    no  1.13  no  2.00  1.000  Sometimes   \n",
       "\n",
       "                     MTRANS           NObeyesdad  \n",
       "0     Public_Transportation       Obesity_Type_I  \n",
       "1     Public_Transportation      Obesity_Type_II  \n",
       "2     Public_Transportation      Obesity_Type_II  \n",
       "3     Public_Transportation     Obesity_Type_III  \n",
       "4     Public_Transportation      Obesity_Type_II  \n",
       "...                     ...                  ...  \n",
       "2106  Public_Transportation  Insufficient_Weight  \n",
       "2107  Public_Transportation      Obesity_Type_II  \n",
       "2108             Automobile   Overweight_Level_I  \n",
       "2109  Public_Transportation      Obesity_Type_II  \n",
       "2110  Public_Transportation  Insufficient_Weight  \n",
       "\n",
       "[2111 rows x 17 columns]"
      ],
      "text/html": [
       "<div>\n",
       "<style scoped>\n",
       "    .dataframe tbody tr th:only-of-type {\n",
       "        vertical-align: middle;\n",
       "    }\n",
       "\n",
       "    .dataframe tbody tr th {\n",
       "        vertical-align: top;\n",
       "    }\n",
       "\n",
       "    .dataframe thead th {\n",
       "        text-align: right;\n",
       "    }\n",
       "</style>\n",
       "<table border=\"1\" class=\"dataframe\">\n",
       "  <thead>\n",
       "    <tr style=\"text-align: right;\">\n",
       "      <th></th>\n",
       "      <th>Gender</th>\n",
       "      <th>Age</th>\n",
       "      <th>Height</th>\n",
       "      <th>Weight</th>\n",
       "      <th>family_history_with_overweight</th>\n",
       "      <th>FAVC</th>\n",
       "      <th>FCVC</th>\n",
       "      <th>NCP</th>\n",
       "      <th>CAEC</th>\n",
       "      <th>SMOKE</th>\n",
       "      <th>CH2O</th>\n",
       "      <th>SCC</th>\n",
       "      <th>FAF</th>\n",
       "      <th>TUE</th>\n",
       "      <th>CALC</th>\n",
       "      <th>MTRANS</th>\n",
       "      <th>NObeyesdad</th>\n",
       "    </tr>\n",
       "  </thead>\n",
       "  <tbody>\n",
       "    <tr>\n",
       "      <th>0</th>\n",
       "      <td>Female</td>\n",
       "      <td>23</td>\n",
       "      <td>1.63</td>\n",
       "      <td>83.10</td>\n",
       "      <td>yes</td>\n",
       "      <td>yes</td>\n",
       "      <td>2.98</td>\n",
       "      <td>1.63</td>\n",
       "      <td>Sometimes</td>\n",
       "      <td>no</td>\n",
       "      <td>2.84</td>\n",
       "      <td>no</td>\n",
       "      <td>1.09</td>\n",
       "      <td>0.890</td>\n",
       "      <td>no</td>\n",
       "      <td>Public_Transportation</td>\n",
       "      <td>Obesity_Type_I</td>\n",
       "    </tr>\n",
       "    <tr>\n",
       "      <th>1</th>\n",
       "      <td>Male</td>\n",
       "      <td>31</td>\n",
       "      <td>1.87</td>\n",
       "      <td>127.51</td>\n",
       "      <td>yes</td>\n",
       "      <td>yes</td>\n",
       "      <td>2.94</td>\n",
       "      <td>3.00</td>\n",
       "      <td>Sometimes</td>\n",
       "      <td>yes</td>\n",
       "      <td>1.34</td>\n",
       "      <td>no</td>\n",
       "      <td>0.92</td>\n",
       "      <td>1.432</td>\n",
       "      <td>Sometimes</td>\n",
       "      <td>Public_Transportation</td>\n",
       "      <td>Obesity_Type_II</td>\n",
       "    </tr>\n",
       "    <tr>\n",
       "      <th>2</th>\n",
       "      <td>Male</td>\n",
       "      <td>25</td>\n",
       "      <td>1.77</td>\n",
       "      <td>114.07</td>\n",
       "      <td>yes</td>\n",
       "      <td>yes</td>\n",
       "      <td>1.62</td>\n",
       "      <td>3.00</td>\n",
       "      <td>Sometimes</td>\n",
       "      <td>no</td>\n",
       "      <td>2.08</td>\n",
       "      <td>no</td>\n",
       "      <td>1.54</td>\n",
       "      <td>0.357</td>\n",
       "      <td>Sometimes</td>\n",
       "      <td>Public_Transportation</td>\n",
       "      <td>Obesity_Type_II</td>\n",
       "    </tr>\n",
       "    <tr>\n",
       "      <th>3</th>\n",
       "      <td>Female</td>\n",
       "      <td>22</td>\n",
       "      <td>1.73</td>\n",
       "      <td>132.90</td>\n",
       "      <td>yes</td>\n",
       "      <td>yes</td>\n",
       "      <td>3.00</td>\n",
       "      <td>3.00</td>\n",
       "      <td>Sometimes</td>\n",
       "      <td>no</td>\n",
       "      <td>1.82</td>\n",
       "      <td>no</td>\n",
       "      <td>1.58</td>\n",
       "      <td>0.931</td>\n",
       "      <td>Sometimes</td>\n",
       "      <td>Public_Transportation</td>\n",
       "      <td>Obesity_Type_III</td>\n",
       "    </tr>\n",
       "    <tr>\n",
       "      <th>4</th>\n",
       "      <td>Male</td>\n",
       "      <td>25</td>\n",
       "      <td>1.76</td>\n",
       "      <td>112.20</td>\n",
       "      <td>yes</td>\n",
       "      <td>yes</td>\n",
       "      <td>1.26</td>\n",
       "      <td>3.00</td>\n",
       "      <td>Sometimes</td>\n",
       "      <td>no</td>\n",
       "      <td>2.00</td>\n",
       "      <td>no</td>\n",
       "      <td>1.33</td>\n",
       "      <td>0.002</td>\n",
       "      <td>Sometimes</td>\n",
       "      <td>Public_Transportation</td>\n",
       "      <td>Obesity_Type_II</td>\n",
       "    </tr>\n",
       "    <tr>\n",
       "      <th>...</th>\n",
       "      <td>...</td>\n",
       "      <td>...</td>\n",
       "      <td>...</td>\n",
       "      <td>...</td>\n",
       "      <td>...</td>\n",
       "      <td>...</td>\n",
       "      <td>...</td>\n",
       "      <td>...</td>\n",
       "      <td>...</td>\n",
       "      <td>...</td>\n",
       "      <td>...</td>\n",
       "      <td>...</td>\n",
       "      <td>...</td>\n",
       "      <td>...</td>\n",
       "      <td>...</td>\n",
       "      <td>...</td>\n",
       "      <td>...</td>\n",
       "    </tr>\n",
       "    <tr>\n",
       "      <th>2106</th>\n",
       "      <td>Male</td>\n",
       "      <td>18</td>\n",
       "      <td>1.72</td>\n",
       "      <td>53.78</td>\n",
       "      <td>yes</td>\n",
       "      <td>yes</td>\n",
       "      <td>2.00</td>\n",
       "      <td>3.13</td>\n",
       "      <td>Sometimes</td>\n",
       "      <td>no</td>\n",
       "      <td>2.07</td>\n",
       "      <td>no</td>\n",
       "      <td>1.49</td>\n",
       "      <td>2.000</td>\n",
       "      <td>Sometimes</td>\n",
       "      <td>Public_Transportation</td>\n",
       "      <td>Insufficient_Weight</td>\n",
       "    </tr>\n",
       "    <tr>\n",
       "      <th>2107</th>\n",
       "      <td>Male</td>\n",
       "      <td>23</td>\n",
       "      <td>1.61</td>\n",
       "      <td>100.64</td>\n",
       "      <td>yes</td>\n",
       "      <td>yes</td>\n",
       "      <td>3.00</td>\n",
       "      <td>1.15</td>\n",
       "      <td>Sometimes</td>\n",
       "      <td>no</td>\n",
       "      <td>1.24</td>\n",
       "      <td>no</td>\n",
       "      <td>1.13</td>\n",
       "      <td>1.666</td>\n",
       "      <td>no</td>\n",
       "      <td>Public_Transportation</td>\n",
       "      <td>Obesity_Type_II</td>\n",
       "    </tr>\n",
       "    <tr>\n",
       "      <th>2108</th>\n",
       "      <td>Male</td>\n",
       "      <td>24</td>\n",
       "      <td>1.70</td>\n",
       "      <td>75.00</td>\n",
       "      <td>yes</td>\n",
       "      <td>yes</td>\n",
       "      <td>2.00</td>\n",
       "      <td>3.00</td>\n",
       "      <td>Sometimes</td>\n",
       "      <td>no</td>\n",
       "      <td>2.00</td>\n",
       "      <td>no</td>\n",
       "      <td>1.00</td>\n",
       "      <td>0.000</td>\n",
       "      <td>Sometimes</td>\n",
       "      <td>Automobile</td>\n",
       "      <td>Overweight_Level_I</td>\n",
       "    </tr>\n",
       "    <tr>\n",
       "      <th>2109</th>\n",
       "      <td>Male</td>\n",
       "      <td>25</td>\n",
       "      <td>1.77</td>\n",
       "      <td>112.23</td>\n",
       "      <td>yes</td>\n",
       "      <td>yes</td>\n",
       "      <td>1.44</td>\n",
       "      <td>3.00</td>\n",
       "      <td>Sometimes</td>\n",
       "      <td>no</td>\n",
       "      <td>2.00</td>\n",
       "      <td>no</td>\n",
       "      <td>1.39</td>\n",
       "      <td>0.001</td>\n",
       "      <td>Sometimes</td>\n",
       "      <td>Public_Transportation</td>\n",
       "      <td>Obesity_Type_II</td>\n",
       "    </tr>\n",
       "    <tr>\n",
       "      <th>2110</th>\n",
       "      <td>Female</td>\n",
       "      <td>20</td>\n",
       "      <td>1.70</td>\n",
       "      <td>49.98</td>\n",
       "      <td>no</td>\n",
       "      <td>yes</td>\n",
       "      <td>1.20</td>\n",
       "      <td>3.53</td>\n",
       "      <td>Sometimes</td>\n",
       "      <td>no</td>\n",
       "      <td>1.13</td>\n",
       "      <td>no</td>\n",
       "      <td>2.00</td>\n",
       "      <td>1.000</td>\n",
       "      <td>Sometimes</td>\n",
       "      <td>Public_Transportation</td>\n",
       "      <td>Insufficient_Weight</td>\n",
       "    </tr>\n",
       "  </tbody>\n",
       "</table>\n",
       "<p>2111 rows × 17 columns</p>\n",
       "</div>"
      ]
     },
     "execution_count": 299,
     "metadata": {},
     "output_type": "execute_result"
    }
   ],
   "execution_count": 299
  },
  {
   "cell_type": "markdown",
   "id": "7addbf6c",
   "metadata": {},
   "source": [
    "### Data Cleaning\n",
    "\n",
    "1. CALC, CAEC Column must only have the values [Never, Sometimes, Frequently, Always]\n",
    "2. Change underscores to whitespace\n",
    "3. Apply One Hot Encoding for Categorical Values\n",
    "4. Apply Standard Scaler for Numeric values"
   ]
  },
  {
   "cell_type": "code",
   "id": "42adde165be4d2db",
   "metadata": {
    "ExecuteTime": {
     "end_time": "2025-03-16T13:55:36.098803Z",
     "start_time": "2025-03-16T13:55:36.083266Z"
    }
   },
   "source": [
    "# Cleanup CALC and CAEC [Transform no to Never]\n",
    "raw['CALC'] = raw['CALC'].replace(\"no\", \"Never\")\n",
    "raw['CAEC'] = raw['CAEC'].replace(\"no\", \"Never\")\n",
    "\n",
    "# Change underscore values to whitespace and standardized\n",
    "# Replace underscores in COLUMN NAMES (if they exist)\n",
    "raw.columns = raw.columns.str.replace('_', ' ')\n",
    "\n",
    "# Apply title case ONLY to column names containing spaces (multi-word columns)\n",
    "raw.columns = [\n",
    "    col.title() if ' ' in col else col  # Title case only if space exists\n",
    "    for col in raw.columns\n",
    "]\n",
    "\n",
    "# Replace underscores in DATA ROWS for specific columns\n",
    "for col in ['MTRANS', 'NObeyesdad']:\n",
    "    raw[col] = raw[col].astype(str).str.replace('_', ' ', regex=True)\n",
    "\n",
    "# Columns to standardize to title case\n",
    "title_case_columns = [\n",
    "    'Family History With Overweight',  # After underscore replacement\n",
    "    'FAVC', 'CAEC', 'SMOKE', 'SCC', 'CALC'\n",
    "]\n",
    "\n",
    "# Convert values in these columns to title case\n",
    "raw[title_case_columns] = raw[title_case_columns].apply(lambda x: x.astype(str).str.title())\n",
    "# Split data into categorical and numeric\n",
    "categorical_cols = [\n",
    "    'Gender', 'Family History With Overweight', 'FAVC', 'CAEC', 'SMOKE', 'SCC', 'CALC', 'MTRANS'\n",
    "]\n",
    "numerical_cols = [\n",
    "    'Age', 'Height', 'Weight', 'FCVC', 'NCP', 'CH2O', 'FAF', 'TUE'\n",
    "]\n",
    "\n",
    "# Create Preprocessor\n",
    "cnb_preprocessor = ColumnTransformer(\n",
    "    transformers=[\n",
    "        ('num', KBinsDiscretizer(n_bins=5, encode='ordinal', strategy='uniform'), numerical_cols),  # Discretize numerical features\n",
    "        ('cat', OneHotEncoder(handle_unknown='ignore'), categorical_cols)  # Encode categoricals\n",
    "    ]\n",
    ")\n",
    "svm_preprocessor = ColumnTransformer(\n",
    "    transformers=[\n",
    "        ('num', StandardScaler(), numerical_cols),      # Scale numerical features\n",
    "        ('cat', OneHotEncoder(handle_unknown='ignore'), categorical_cols)  # Encode categoricals\n",
    "    ]\n",
    ")"
   ],
   "outputs": [],
   "execution_count": 300
  },
  {
   "cell_type": "markdown",
   "id": "bf83557f3b5e4c65",
   "metadata": {},
   "source": [
    "### Prepare Data\n",
    "\n",
    "1. Split features and target column\n",
    "2. Prepare training and testing data."
   ]
  },
  {
   "cell_type": "code",
   "id": "c694b7b78ec8f581",
   "metadata": {
    "ExecuteTime": {
     "end_time": "2025-03-16T13:55:36.134383Z",
     "start_time": "2025-03-16T13:55:36.127388Z"
    }
   },
   "source": [
    "# Split the dataset (unseen = 90% of dataset), (data = 10% of dataset)\n",
    "unseen = raw.iloc[1900:2110].reset_index(drop=True) # Get unseen sample\n",
    "data = raw.iloc[0:1899].reset_index(drop=True) # Cut original dataset\n",
    "\n",
    "# Split Features and Target Column\n",
    "features = data.drop('NObeyesdad', axis=1).copy()\n",
    "target_col = data['NObeyesdad'].copy()\n",
    "\n",
    "features_train, features_test, target_train, target_test = train_test_split(\n",
    "    features, target_col, test_size=0.2\n",
    ")"
   ],
   "outputs": [],
   "execution_count": 301
  },
  {
   "cell_type": "markdown",
   "id": "fbe5032c",
   "metadata": {},
   "source": "### Train Categorical Naive Bayes Model"
  },
  {
   "cell_type": "code",
   "id": "3125786c553a4c82",
   "metadata": {
    "ExecuteTime": {
     "end_time": "2025-03-16T13:55:36.218490Z",
     "start_time": "2025-03-16T13:55:36.186029Z"
    }
   },
   "source": [
    "cnb_model = Pipeline([\n",
    "    ('preprocessor', cnb_preprocessor),\n",
    "    ('classifier', CategoricalNB())\n",
    "])\n",
    "\n",
    "cnb_model.fit(features_train, target_train)\n",
    "\n",
    "cnb_pred_train = cnb_model.predict(features_train)\n",
    "cnb_pred_test = cnb_model.predict(features_test)"
   ],
   "outputs": [],
   "execution_count": 302
  },
  {
   "metadata": {},
   "cell_type": "markdown",
   "source": "### Train Support Vector Machine Model",
   "id": "d9bba3a04864c492"
  },
  {
   "metadata": {
    "ExecuteTime": {
     "end_time": "2025-03-16T13:55:36.473664Z",
     "start_time": "2025-03-16T13:55:36.280852Z"
    }
   },
   "cell_type": "code",
   "source": [
    "svm_model = Pipeline([\n",
    "    ('preprocessor', svm_preprocessor),\n",
    "    ('classifier', SVC(\n",
    "        C=1.0,\n",
    "        gamma='scale',\n",
    "        class_weight='balanced'  # Handles class imbalance\n",
    "    ))\n",
    "])\n",
    "\n",
    "svm_model.fit(features_train, target_train)\n",
    "\n",
    "svm_pred_train = svm_model.predict(features_train)\n",
    "svm_pred_test = svm_model.predict(features_test)"
   ],
   "id": "7c38ff7d1130c2dd",
   "outputs": [],
   "execution_count": 303
  },
  {
   "metadata": {},
   "cell_type": "markdown",
   "source": "### Apply Ten-fold Cross Validation",
   "id": "4a1700588997d2d6"
  },
  {
   "metadata": {
    "ExecuteTime": {
     "end_time": "2025-03-16T13:55:36.601837Z",
     "start_time": "2025-03-16T13:55:36.599607Z"
    }
   },
   "cell_type": "code",
   "source": "",
   "id": "e8962a8d318246da",
   "outputs": [],
   "execution_count": null
  },
  {
   "metadata": {},
   "cell_type": "markdown",
   "source": "### Display Confusion Matrices for every model",
   "id": "c8e831c3a52f6757"
  },
  {
   "metadata": {
    "ExecuteTime": {
     "end_time": "2025-03-16T13:55:36.608554Z",
     "start_time": "2025-03-16T13:55:36.606362Z"
    }
   },
   "cell_type": "code",
   "source": "",
   "id": "d223f1e46ab8c62c",
   "outputs": [],
   "execution_count": null
  },
  {
   "metadata": {},
   "cell_type": "markdown",
   "source": "### Get Accuracy, Precision, and Recall Scores for all Models",
   "id": "1da387e30d5151ed"
  },
  {
   "metadata": {
    "ExecuteTime": {
     "end_time": "2025-03-16T13:55:36.774075Z",
     "start_time": "2025-03-16T13:55:36.733221Z"
    }
   },
   "cell_type": "code",
   "source": [
    "apr_results = pd.DataFrame({\n",
    "    'Results': ['Categorical Naive Bayes', 'Support Vector Machine', '(WiP)'],\n",
    "    'Testing Accuracy': [accuracy_score(target_test, cnb_pred_test),\n",
    "                         accuracy_score(target_test, svm_pred_test),\n",
    "                         0.0],\n",
    "    'Testing Precision': [precision_score(target_test, cnb_pred_test, average='weighted'),\n",
    "                          precision_score(target_test, svm_pred_test, average='weighted'),\n",
    "                          0.0],\n",
    "    'Testing Recall': [recall_score(target_test, cnb_pred_test, average='weighted'),\n",
    "                       recall_score(target_test, svm_pred_test, average='weighted'),\n",
    "                       0.0],\n",
    "    'Training Accuracy': [accuracy_score(target_train, cnb_pred_train),\n",
    "                          accuracy_score(target_train, svm_pred_train),\n",
    "                          0.0],\n",
    "    'Training Precision': [precision_score(target_train, cnb_pred_train, average='weighted'),\n",
    "                           precision_score(target_train, svm_pred_train, average='weighted'),\n",
    "                           0.0],\n",
    "    'Training Recall': [recall_score(target_train, cnb_pred_train, average='weighted'),\n",
    "                        recall_score(target_train, svm_pred_train, average='weighted'),\n",
    "                        0.0]\n",
    "})\n",
    "\n",
    "apr_results"
   ],
   "id": "ecc63acb7111818d",
   "outputs": [
    {
     "data": {
      "text/plain": [
       "                   Results  Testing Accuracy  Testing Precision  \\\n",
       "0  Categorical Naive Bayes          0.710526           0.712704   \n",
       "1   Support Vector Machine          0.902632           0.903168   \n",
       "2                    (WiP)          0.000000           0.000000   \n",
       "\n",
       "   Testing Recall  Training Accuracy  Training Precision  Training Recall  \n",
       "0        0.710526           0.714944            0.710068         0.714944  \n",
       "1        0.902632           0.963792            0.964287         0.963792  \n",
       "2        0.000000           0.000000            0.000000         0.000000  "
      ],
      "text/html": [
       "<div>\n",
       "<style scoped>\n",
       "    .dataframe tbody tr th:only-of-type {\n",
       "        vertical-align: middle;\n",
       "    }\n",
       "\n",
       "    .dataframe tbody tr th {\n",
       "        vertical-align: top;\n",
       "    }\n",
       "\n",
       "    .dataframe thead th {\n",
       "        text-align: right;\n",
       "    }\n",
       "</style>\n",
       "<table border=\"1\" class=\"dataframe\">\n",
       "  <thead>\n",
       "    <tr style=\"text-align: right;\">\n",
       "      <th></th>\n",
       "      <th>Results</th>\n",
       "      <th>Testing Accuracy</th>\n",
       "      <th>Testing Precision</th>\n",
       "      <th>Testing Recall</th>\n",
       "      <th>Training Accuracy</th>\n",
       "      <th>Training Precision</th>\n",
       "      <th>Training Recall</th>\n",
       "    </tr>\n",
       "  </thead>\n",
       "  <tbody>\n",
       "    <tr>\n",
       "      <th>0</th>\n",
       "      <td>Categorical Naive Bayes</td>\n",
       "      <td>0.710526</td>\n",
       "      <td>0.712704</td>\n",
       "      <td>0.710526</td>\n",
       "      <td>0.714944</td>\n",
       "      <td>0.710068</td>\n",
       "      <td>0.714944</td>\n",
       "    </tr>\n",
       "    <tr>\n",
       "      <th>1</th>\n",
       "      <td>Support Vector Machine</td>\n",
       "      <td>0.902632</td>\n",
       "      <td>0.903168</td>\n",
       "      <td>0.902632</td>\n",
       "      <td>0.963792</td>\n",
       "      <td>0.964287</td>\n",
       "      <td>0.963792</td>\n",
       "    </tr>\n",
       "    <tr>\n",
       "      <th>2</th>\n",
       "      <td>(WiP)</td>\n",
       "      <td>0.000000</td>\n",
       "      <td>0.000000</td>\n",
       "      <td>0.000000</td>\n",
       "      <td>0.000000</td>\n",
       "      <td>0.000000</td>\n",
       "      <td>0.000000</td>\n",
       "    </tr>\n",
       "  </tbody>\n",
       "</table>\n",
       "</div>"
      ]
     },
     "execution_count": 304,
     "metadata": {},
     "output_type": "execute_result"
    }
   ],
   "execution_count": 304
  },
  {
   "metadata": {},
   "cell_type": "markdown",
   "source": "### Get ROC-AUC scores for every model",
   "id": "60ee89603d71127b"
  },
  {
   "metadata": {
    "ExecuteTime": {
     "end_time": "2025-03-16T13:55:36.992167Z",
     "start_time": "2025-03-16T13:55:36.990060Z"
    }
   },
   "cell_type": "code",
   "source": "",
   "id": "3f920e6531539992",
   "outputs": [],
   "execution_count": null
  },
  {
   "metadata": {},
   "cell_type": "markdown",
   "source": "### Test models using the unseen dataset",
   "id": "92a382f7d6e1f8e4"
  },
  {
   "metadata": {
    "ExecuteTime": {
     "end_time": "2025-03-16T13:55:37.034272Z",
     "start_time": "2025-03-16T13:55:37.024379Z"
    }
   },
   "cell_type": "code",
   "source": [
    "expected = unseen['NObeyesdad'].copy()\n",
    "\n",
    "# Categorical Naive Bayes\n",
    "cnb_unseen = unseen.copy()\n",
    "cnb_unseen.drop('NObeyesdad', axis=1, inplace=True)\n",
    "cnb_unseen['Predictions'] = cnb_model.predict(cnb_unseen)\n",
    "cnb_comparison = pd.DataFrame({\n",
    "    'Expected':unseen['NObeyesdad'],\n",
    "    'Actual':cnb_unseen['Predictions'],\n",
    "})\n",
    "\n",
    "# Support Vector Model"
   ],
   "id": "3b17e04c3b63abbc",
   "outputs": [],
   "execution_count": 305
  },
  {
   "metadata": {
    "ExecuteTime": {
     "end_time": "2025-03-16T13:55:37.067910Z",
     "start_time": "2025-03-16T13:55:37.063396Z"
    }
   },
   "cell_type": "code",
   "source": [
    "print(\"Categorical Naive Bayes Test\")\n",
    "# cnb_comparison"
   ],
   "id": "1d2f104fba47d6ea",
   "outputs": [
    {
     "name": "stdout",
     "output_type": "stream",
     "text": [
      "Categorical Naive Bayes Test\n"
     ]
    }
   ],
   "execution_count": 306
  },
  {
   "metadata": {
    "ExecuteTime": {
     "end_time": "2025-03-16T13:55:37.140856Z",
     "start_time": "2025-03-16T13:55:37.138026Z"
    }
   },
   "cell_type": "code",
   "source": [
    "print(\"Support Vector Machine Test\")\n",
    "# svm_comparison"
   ],
   "id": "9129ea95605b72b1",
   "outputs": [
    {
     "name": "stdout",
     "output_type": "stream",
     "text": [
      "Support Vector Machine Test\n"
     ]
    }
   ],
   "execution_count": 307
  },
  {
   "metadata": {
    "ExecuteTime": {
     "end_time": "2025-03-16T13:55:37.204756Z",
     "start_time": "2025-03-16T13:55:37.202272Z"
    }
   },
   "cell_type": "code",
   "source": "",
   "id": "6f2dae0c9967cd75",
   "outputs": [],
   "execution_count": null
  }
 ],
 "metadata": {
  "kernelspec": {
   "display_name": "Python 3 (ipykernel)",
   "language": "python",
   "name": "python3"
  },
  "language_info": {
   "codemirror_mode": {
    "name": "ipython",
    "version": 3
   },
   "file_extension": ".py",
   "mimetype": "text/x-python",
   "name": "python",
   "nbconvert_exporter": "python",
   "pygments_lexer": "ipython3",
   "version": "3.9.12"
  }
 },
 "nbformat": 4,
 "nbformat_minor": 5
}
