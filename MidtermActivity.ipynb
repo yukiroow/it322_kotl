{
 "cells": [
  {
   "cell_type": "markdown",
   "id": "f53b8ec8",
   "metadata": {},
   "source": [
    "# Midterm Activity 1\n",
    "\n",
    "> An assumption for this activity is that your team was tasked to provide recommendations based on your descriptive and predictive analysis of the assigned dataset.\n",
    "\n",
    "### Objectives\n",
    "\n",
    "1. Provide a descriptive analysis of a given dataset\n",
    "2. Interpret the results of association rule mining metrics.\n",
    "3. Apply association rule mining as the basis for providing recommendations."
   ]
  },
  {
   "cell_type": "code",
   "execution_count": 1,
   "id": "aaa3b17b",
   "metadata": {},
   "outputs": [
    {
     "name": "stdout",
     "output_type": "stream",
     "text": [
      "Hello, World!\n"
     ]
    }
   ],
   "source": [
    "print('Hello, World!')"
   ]
  },
  {
   "cell_type": "code",
   "execution_count": null,
   "id": "8ee09e80",
   "metadata": {},
   "outputs": [],
   "source": []
  }
 ],
 "metadata": {
  "kernelspec": {
   "display_name": "Python 3 (ipykernel)",
   "language": "python",
   "name": "python3"
  },
  "language_info": {
   "codemirror_mode": {
    "name": "ipython",
    "version": 3
   },
   "file_extension": ".py",
   "mimetype": "text/x-python",
   "name": "python",
   "nbconvert_exporter": "python",
   "pygments_lexer": "ipython3",
   "version": "3.9.12"
  }
 },
 "nbformat": 4,
 "nbformat_minor": 5
}
