{
 "cells": [
  {
   "cell_type": "markdown",
   "id": "5f59d5d7",
   "metadata": {},
   "source": [
    "## Final Activity 1\n",
    "\n",
    "#### Objectives:\n",
    "- Develop regression models for a given dataset and interpret the regression models.\n",
    "- Evaluate the regression models based on the regression metrics.\n",
    "\n",
    "#### Simple Linear Regression (SLR)\n",
    "\n",
    "Predict how much discount should be given considering any damage in the house. The dataset has a column for number of damages and another column for the discount that can be given (around USD 1 for every damage discovered)\n",
    "\n",
    "#### Multiple Linear Regression (MLR)\n",
    "\n",
    "Predict the possible price of a house by correlating the price column with ONLY the following attributes/columns in the dataset:\n",
    "- size (in square meters)\n",
    "- number of bedrooms\n",
    "- number of bathrooms\n",
    "- number of extra rooms\n",
    "- presence of a garage (0 - no, 1- yes)\n",
    "- presence of a garden (0 - no, 1- yes)\n",
    "- if the house is in a subdivision (0 - no, 1- yes)\n",
    "- if the house is located in a city (0 - no, 1- yes)\n",
    "- if the house is solar powered (0 - no, 1- yes)"
   ]
  },
  {
   "cell_type": "code",
   "id": "9a6c19d1",
   "metadata": {},
   "source": [
    "# Import Dataset\n",
    "import pandas as pd\n",
    "import numpy as np\n",
    "\n",
    "raw = pd.read_csv('data/housePriceData.csv')\n",
    "\n",
    "raw"
   ],
   "outputs": [],
   "execution_count": null
  },
  {
   "metadata": {},
   "cell_type": "markdown",
   "source": "### Separate columns and split train-test data",
   "id": "f1bcfa9131782b3"
  },
  {
   "cell_type": "code",
   "id": "4ef625a2",
   "metadata": {},
   "source": [
    "from sklearn.model_selection import train_test_split\n",
    "\n",
    "# Separate columns by model\n",
    "slr_features = raw[['damages']].copy()\n",
    "slr_target = raw['discount'].copy()\n",
    "mlr_features = raw[['size', 'bedrooms', 'bathrooms', 'extraRooms', 'garage', 'garden', 'inSubdivision', 'inCity',\n",
    "                    'solarPowered']].copy()\n",
    "mlr_target = raw['price'].copy()\n",
    "\n",
    "slr_features_train, slr_features_test, slr_target_train, slr_target_test = train_test_split(\n",
    "    slr_features, slr_target, test_size=0.1\n",
    ")\n",
    "\n",
    "mlr_features_train, mlr_features_test, mlr_target_train, mlr_target_test = train_test_split(\n",
    "    mlr_features, mlr_target, test_size=0.1\n",
    ")"
   ],
   "outputs": [],
   "execution_count": null
  },
  {
   "metadata": {},
   "cell_type": "markdown",
   "source": "## Simple Linear Regression",
   "id": "5b549117e94e6bfa"
  },
  {
   "metadata": {},
   "cell_type": "markdown",
   "source": "a. Display the descriptive statistics of the discount amounts",
   "id": "fa784754d299c397"
  },
  {
   "metadata": {},
   "cell_type": "code",
   "source": [
    "discount_stats = slr_features_train.describe()\n",
    "print(\"Descriptive Statistics for Discount Amounts:\")\n",
    "discount_stats"
   ],
   "id": "8bc228e464af9d15",
   "outputs": [],
   "execution_count": null
  },
  {
   "metadata": {},
   "cell_type": "markdown",
   "source": "b. Create a scatter plot using the “damages” column as the independent variable and the “discount” column as the dependent variable.",
   "id": "1af10545d2bec167"
  },
  {
   "metadata": {},
   "cell_type": "code",
   "source": [
    "import matplotlib.pyplot as plt\n",
    "\n",
    "slr_train_data = pd.concat([slr_features_train, slr_target_train], axis=1)\n",
    "\n",
    "plt.figure(figsize=(10, 6))\n",
    "plt.scatter(slr_train_data['damages'], slr_train_data['discount'], color='yellow', edgecolor='black', alpha=0.7)\n",
    "plt.title('Discount vs. Number of Damages', fontsize=14)\n",
    "plt.xlabel('Number of Damages', fontsize=12)\n",
    "plt.ylabel('Discount (%)', fontsize=12)\n",
    "plt.grid(True, linestyle='-', alpha=0.3)\n",
    "\n",
    "z = np.polyfit(slr_train_data['damages'], slr_train_data['discount'], 1)\n",
    "p = np.poly1d(z)\n",
    "plt.plot(slr_train_data['damages'], p(slr_train_data['damages']), color='blue', linestyle='-', label='Trendline')\n",
    "\n",
    "plt.legend()\n",
    "plt.show()"
   ],
   "id": "35e7b843040da5d",
   "outputs": [],
   "execution_count": null
  },
  {
   "metadata": {},
   "cell_type": "markdown",
   "source": "c. Determine the correlation between the “damages” and “discount” columns.",
   "id": "7f33ab5f808a29b5"
  },
  {
   "metadata": {},
   "cell_type": "code",
   "source": [
    "correlation = slr_train_data[['damages', 'discount']].corr().iloc[0, 1]\n",
    "print(f\"Correlation between Damages and Discount: {correlation:.2f}\")"
   ],
   "id": "6615ea93471c6d66",
   "outputs": [],
   "execution_count": null
  },
  {
   "metadata": {},
   "cell_type": "markdown",
   "source": "d. Create a simple linear regression model using the “damages” column as the independent variable and the “discount” column as the dependent variable.",
   "id": "fa46b528b71317eb"
  },
  {
   "metadata": {},
   "cell_type": "code",
   "source": [
    "from sklearn.linear_model import LinearRegression\n",
    "\n",
    "# Initialize and train the model\n",
    "slr_model = LinearRegression()\n",
    "slr_model.fit(slr_features_train, slr_target_train)\n",
    "\n",
    "# Get the slope (coefficient) and intercept\n",
    "slope = slr_model.coef_[0]\n",
    "intercept = slr_model.intercept_\n",
    "\n",
    "print(f\"SLR Equation: discount = {intercept:.2f} + {slope:.2f} * damages\")\n",
    "print(f\"Slope (damages coefficient): {slope:.2f}\")\n",
    "print(f\"Intercept: {intercept:.2f}\")"
   ],
   "id": "643981db9729315a",
   "outputs": [],
   "execution_count": null
  },
  {
   "metadata": {},
   "cell_type": "markdown",
   "source": "e. Evaluate the developed regression model based on different performance metrics and discuss the OLS regression results.",
   "id": "c7337f09a5742d4f"
  },
  {
   "metadata": {},
   "cell_type": "code",
   "source": [
    "# Performance Metrics\n",
    "from sklearn.metrics import mean_absolute_error, mean_squared_error, root_mean_squared_error\n",
    "\n",
    "# Predict on test data\n",
    "slr_predictions = slr_model.predict(slr_features_test)\n",
    "\n",
    "# Calculate metrics\n",
    "mae = mean_absolute_error(slr_target_test, slr_predictions)\n",
    "mse = mean_squared_error(slr_target_test, slr_predictions)\n",
    "rmse = root_mean_squared_error(slr_target_test, slr_predictions)\n",
    "\n",
    "print(f\"MAE: {mae:.2f}\")\n",
    "print(f\"MSE: {mse:.2f}\")\n",
    "print(f\"RMSE: {rmse:.2f}\")"
   ],
   "id": "3210914c8bc3d2b9",
   "outputs": [],
   "execution_count": null
  },
  {
   "metadata": {},
   "cell_type": "code",
   "source": [
    "# OLS Regression\n",
    "import statsmodels.api as sm\n",
    "\n",
    "# Add a constant (intercept) to the features\n",
    "X_train = sm.add_constant(slr_features_train)\n",
    "ols_model = sm.OLS(slr_target_train, X_train).fit()\n",
    "\n",
    "# Print OLS summary\n",
    "ols_model.summary()"
   ],
   "id": "2b8f1404bb3a3a9e",
   "outputs": [],
   "execution_count": null
  },
  {
   "metadata": {},
   "cell_type": "markdown",
   "source": "f. Predict the discount amounts on the remaining 10% unseen data.",
   "id": "890fe0535f7dbc14"
  },
  {
   "metadata": {},
   "cell_type": "code",
   "source": [
    "# Predict discounts for the test set (10% unseen data)\n",
    "test_predictions = slr_model.predict(slr_features_test)\n",
    "\n",
    "# Create a DataFrame to compare actual vs. predicted discounts\n",
    "results = pd.DataFrame({\n",
    "    'Actual Discount': slr_target_test,\n",
    "    'Predicted Discount': test_predictions,\n",
    "    'Error (Difference Actual vs. Predicted)': np.abs(slr_target_test - test_predictions)\n",
    "})\n",
    "\n",
    "print(\"Predictions on Unseen Test Data:\")\n",
    "results.round(2)"
   ],
   "id": "9632553eb489394b",
   "outputs": [],
   "execution_count": null
  }
 ],
 "metadata": {
  "kernelspec": {
   "display_name": "Python 3 (ipykernel)",
   "language": "python",
   "name": "python3"
  },
  "language_info": {
   "codemirror_mode": {
    "name": "ipython",
    "version": 3
   },
   "file_extension": ".py",
   "mimetype": "text/x-python",
   "name": "python",
   "nbconvert_exporter": "python",
   "pygments_lexer": "ipython3",
   "version": "3.9.12"
  }
 },
 "nbformat": 4,
 "nbformat_minor": 5
}
